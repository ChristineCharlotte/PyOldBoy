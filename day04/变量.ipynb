{
 "cells": [
  {
   "cell_type": "markdown",
   "metadata": {},
   "source": [
    "如何使用变量：\n",
    "1. 变量的基本使用\n",
    "  原则：先定义，后引用."
   ]
  },
  {
   "cell_type": "code",
   "execution_count": 1,
   "metadata": {},
   "outputs": [
    {
     "name": "stdout",
     "output_type": "stream",
     "text": [
      "jun\n"
     ]
    }
   ],
   "source": [
    "name = 'jun' # 定义 => 存\n",
    "print(name)  # 引用 => 取"
   ]
  },
  {
   "cell_type": "code",
   "execution_count": 2,
   "metadata": {},
   "outputs": [
    {
     "name": "stdout",
     "output_type": "stream",
     "text": [
      "18\n"
     ]
    }
   ],
   "source": [
    "age = 18\n",
    "print(age)"
   ]
  },
  {
   "cell_type": "markdown",
   "metadata": {},
   "source": [
    "2. 内存管理：垃圾回收机制\n",
    "   垃圾：一个变量值被绑定的变量名的个数为0，该变量值无法被访问到，就成为垃圾.\n",
    "   \n",
    "   引用计数增加\n",
    "   "
   ]
  },
  {
   "cell_type": "code",
   "execution_count": 4,
   "metadata": {},
   "outputs": [],
   "source": [
    "x = 10 # 10 的引用计数为 1\n",
    "y = x  # 10 的引用计数为 2\n",
    "z = x  # 10 的引用计数为 3  "
   ]
  },
  {
   "cell_type": "markdown",
   "metadata": {},
   "source": [
    "引用计数减少"
   ]
  },
  {
   "cell_type": "code",
   "execution_count": 5,
   "metadata": {},
   "outputs": [],
   "source": [
    "del x # 解除变量名 x 与值 10 的绑定关系，10 的引用计数为 2\n",
    "del y # 10 的引用计数为 1\n",
    "z = 123 # 10 的引用计数为 0"
   ]
  },
  {
   "cell_type": "markdown",
   "metadata": {},
   "source": [
    "Python 自动回收引用计数为 0 的 10."
   ]
  },
  {
   "cell_type": "markdown",
   "metadata": {},
   "source": [
    "变量有三大组成部分\n",
    "1. 变量名是指向等号右侧值的内存地址的，用来访问等号右侧的值；\n",
    "2. 赋值符号（=）：将变量值的内存地址绑定给变量名；\n",
    "3. 变量值：代表记录的事物的状态."
   ]
  },
  {
   "cell_type": "markdown",
   "metadata": {},
   "source": [
    "变量名的命名规范：\n",
    "1. 变量名只能是 字母、数字或下划线的任意组合\n",
    "2. 变量名的第一个字符不能是数字\n",
    "3. 关键字不能声明为变量名，常用关键字如下\n",
    "\n",
    "``` py\n",
    "['and', 'as', 'assert', 'break', 'class', 'continue', 'def', 'del', 'elif', 'else', 'except', 'exec', 'finally', 'for', 'from','global', 'if', 'import', 'in', 'is', 'lambda', 'not', 'or', 'pass', 'print', 'raise', 'return', 'try', 'while', 'with', 'yield']\n",
    "```"
   ]
  },
  {
   "cell_type": "markdown",
   "metadata": {},
   "source": [
    "ps: 不要用拼音和中文，在见名知意的前提下，尽可能短。"
   ]
  },
  {
   "cell_type": "markdown",
   "metadata": {},
   "source": [
    "变量名的命名风格\n",
    "\n",
    "在  `Python` 中，变量名的命名，推荐使用：纯小写 + 下划线的方式"
   ]
  },
  {
   "cell_type": "code",
   "execution_count": 6,
   "metadata": {},
   "outputs": [],
   "source": [
    "age_of_alex = 73"
   ]
  }
 ],
 "metadata": {
  "interpreter": {
   "hash": "b0fa6594d8f4cbf19f97940f81e996739fb7646882a419484c72d19e05852a7e"
  },
  "kernelspec": {
   "display_name": "Python 3.9.10 64-bit",
   "language": "python",
   "name": "python3"
  },
  "language_info": {
   "codemirror_mode": {
    "name": "ipython",
    "version": 3
   },
   "file_extension": ".py",
   "mimetype": "text/x-python",
   "name": "python",
   "nbconvert_exporter": "python",
   "pygments_lexer": "ipython3",
   "version": "3.10.2"
  },
  "orig_nbformat": 4
 },
 "nbformat": 4,
 "nbformat_minor": 2
}
